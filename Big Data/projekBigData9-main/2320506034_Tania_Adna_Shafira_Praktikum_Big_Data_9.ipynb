{
  "nbformat": 4,
  "nbformat_minor": 0,
  "metadata": {
    "colab": {
      "provenance": []
    },
    "kernelspec": {
      "name": "python3",
      "display_name": "Python 3"
    },
    "language_info": {
      "name": "python"
    }
  },
  "cells": [
    {
      "cell_type": "code",
      "execution_count": null,
      "metadata": {
        "colab": {
          "base_uri": "https://localhost:8080/"
        },
        "id": "Ct9UNFyFDUAf",
        "outputId": "e18ff892-6b96-4ae8-8158-e4823beedc23"
      },
      "outputs": [
        {
          "output_type": "stream",
          "name": "stdout",
          "text": [
            "Collecting pyspark==3.4.1\n",
            "  Downloading pyspark-3.4.1.tar.gz (310.8 MB)\n",
            "\u001b[2K     \u001b[90m━━━━━━━━━━━━━━━━━━━━━━━━━━━━━━━━━━━━━━━━\u001b[0m \u001b[32m310.8/310.8 MB\u001b[0m \u001b[31m5.4 MB/s\u001b[0m eta \u001b[36m0:00:00\u001b[0m\n",
            "\u001b[?25h  Preparing metadata (setup.py) ... \u001b[?25l\u001b[?25hdone\n",
            "Requirement already satisfied: py4j==0.10.9.7 in /usr/local/lib/python3.10/dist-packages (from pyspark==3.4.1) (0.10.9.7)\n",
            "Building wheels for collected packages: pyspark\n",
            "  Building wheel for pyspark (setup.py) ... \u001b[?25l\u001b[?25hdone\n",
            "  Created wheel for pyspark: filename=pyspark-3.4.1-py2.py3-none-any.whl size=311285391 sha256=2e5d0cbb71697d018f86888101498da5c3718ea32cde2093130c45b79c74b489\n",
            "  Stored in directory: /root/.cache/pip/wheels/0d/77/a3/ff2f74cc9ab41f8f594dabf0579c2a7c6de920d584206e0834\n",
            "Successfully built pyspark\n",
            "Installing collected packages: pyspark\n",
            "  Attempting uninstall: pyspark\n",
            "    Found existing installation: pyspark 3.5.3\n",
            "    Uninstalling pyspark-3.5.3:\n",
            "      Successfully uninstalled pyspark-3.5.3\n",
            "Successfully installed pyspark-3.4.1\n"
          ]
        }
      ],
      "source": [
        "!pip install pyspark==3.4.1"
      ]
    },
    {
      "cell_type": "markdown",
      "source": [
        "Tugas 1: Ulangi pemahaman Anda tentang SQL dasar dengan menjalankan queries sederhana pada dataset di Spark SQL."
      ],
      "metadata": {
        "id": "mwkhSQeTWaqs"
      }
    },
    {
      "cell_type": "code",
      "source": [
        "from pyspark.sql import SparkSession\n",
        "spark = SparkSession.builder.appName('Pertemuan9').getOrCreate()\n",
        "data = [\n",
        "    ('James', 34, 'M', 3000, 1),\n",
        "    ('Anna', 28, 'F', 4100, 2),\n",
        "    ('Lee', 23, 'M', 2700, 1)\n",
        "]\n",
        "columns = ['Name', 'Age', 'Gender', 'Salary', 'DeptId']\n",
        "df = spark.createDataFrame(data, schema=columns)\n",
        "df.createOrReplaceTempView('employees')\n",
        "spark.sql('SELECT * FROM employees').show()\n",
        "spark.sql('SELECT Name, Age FROM employees WHERE Salary > 3000').show()\n",
        "spark.sql('SELECT AVG(Salary) FROM employees').show()"
      ],
      "metadata": {
        "colab": {
          "base_uri": "https://localhost:8080/"
        },
        "id": "5h50QpDXGEjV",
        "outputId": "cac3ddd9-c0e4-4915-926b-1da251df17be"
      },
      "execution_count": null,
      "outputs": [
        {
          "output_type": "stream",
          "name": "stdout",
          "text": [
            "+-----+---+------+------+------+\n",
            "| Name|Age|Gender|Salary|DeptId|\n",
            "+-----+---+------+------+------+\n",
            "|James| 34|     M|  3000|     1|\n",
            "| Anna| 28|     F|  4100|     2|\n",
            "|  Lee| 23|     M|  2700|     1|\n",
            "+-----+---+------+------+------+\n",
            "\n",
            "+----+---+\n",
            "|Name|Age|\n",
            "+----+---+\n",
            "|Anna| 28|\n",
            "+----+---+\n",
            "\n",
            "+------------------+\n",
            "|       avg(Salary)|\n",
            "+------------------+\n",
            "|3266.6666666666665|\n",
            "+------------------+\n",
            "\n"
          ]
        }
      ]
    },
    {
      "cell_type": "markdown",
      "source": [
        "Tugas 2: Buat SQL query yang menghitung total gaji berdasarkan jenis kelamin dan usia."
      ],
      "metadata": {
        "id": "4SuF-7_UWiuj"
      }
    },
    {
      "cell_type": "code",
      "source": [
        "spark.sql('''\n",
        "SELECT Gender, SUM(Salary) as TotalSalary, Age\n",
        "FROM employees\n",
        "GROUP BY Gender, Age\n",
        "ORDER BY Age\n",
        "''').show()"
      ],
      "metadata": {
        "colab": {
          "base_uri": "https://localhost:8080/"
        },
        "id": "f5TVZApKJfBl",
        "outputId": "a66078d5-26a1-4dca-d301-befb2df05d05"
      },
      "execution_count": null,
      "outputs": [
        {
          "output_type": "stream",
          "name": "stdout",
          "text": [
            "+------+-----------+---+\n",
            "|Gender|TotalSalary|Age|\n",
            "+------+-----------+---+\n",
            "|     M|       2700| 23|\n",
            "|     F|       4100| 28|\n",
            "|     M|       3000| 34|\n",
            "+------+-----------+---+\n",
            "\n"
          ]
        }
      ]
    },
    {
      "cell_type": "markdown",
      "source": [
        "**Tugas Tambahan 2:**\n"
      ],
      "metadata": {
        "id": "44yqJHuKWo6T"
      }
    },
    {
      "cell_type": "markdown",
      "source": [
        "\n",
        "*   Cari rata-rata gaji per departemen.\n",
        "\n",
        "\n",
        "\n"
      ],
      "metadata": {
        "id": "QxFhNZaVWzDL"
      }
    },
    {
      "cell_type": "code",
      "source": [
        "spark.sql('''\n",
        "SELECT DeptId, AVG(Salary) as AvarageSalary\n",
        "FROM employees\n",
        "GROUP BY DeptId\n",
        "''').show()"
      ],
      "metadata": {
        "colab": {
          "base_uri": "https://localhost:8080/"
        },
        "id": "wYZNSzBWWt4b",
        "outputId": "0f4fa75f-4132-4fd4-a5f0-ce867c911834"
      },
      "execution_count": null,
      "outputs": [
        {
          "output_type": "stream",
          "name": "stdout",
          "text": [
            "+------+-------------+\n",
            "|DeptId|AvarageSalary|\n",
            "+------+-------------+\n",
            "|     1|       2850.0|\n",
            "|     2|       4100.0|\n",
            "+------+-------------+\n",
            "\n"
          ]
        }
      ]
    },
    {
      "cell_type": "markdown",
      "source": [
        "\n",
        "\n",
        "*   Temukan karyawan yang memiliki gaji di atas rata-rata untuk gender masing-masing\n",
        "\n",
        "\n"
      ],
      "metadata": {
        "id": "FxY5oGecW47r"
      }
    },
    {
      "cell_type": "code",
      "source": [
        "spark.sql('''\n",
        "SELECT a.*\n",
        "FROM employees a\n",
        "JOIN (\n",
        "    SELECT Gender, AVG(Salary) as AvgSalary\n",
        "    FROM employees\n",
        "    GROUP BY Gender\n",
        ") avg_gender ON a.Gender = avg_gender.Gender\n",
        "WHERE a.Salary > avg_gender.AvgSalary\n",
        "''').show()"
      ],
      "metadata": {
        "colab": {
          "base_uri": "https://localhost:8080/"
        },
        "id": "9sM7vks1W9y7",
        "outputId": "f6c33d7e-0036-473a-984e-adbb5461cf7d"
      },
      "execution_count": null,
      "outputs": [
        {
          "output_type": "stream",
          "name": "stdout",
          "text": [
            "+-----+---+------+------+------+\n",
            "| Name|Age|Gender|Salary|DeptId|\n",
            "+-----+---+------+------+------+\n",
            "|James| 34|     M|  3000|     1|\n",
            "+-----+---+------+------+------+\n",
            "\n"
          ]
        }
      ]
    },
    {
      "cell_type": "markdown",
      "source": [
        "\n",
        "*   Buat ranking karyawan berdasarkan gaji dalam departemen mereka.\n",
        "\n"
      ],
      "metadata": {
        "id": "GfBm6aa6W-tL"
      }
    },
    {
      "cell_type": "code",
      "source": [
        "spark.sql('''\n",
        "SELECT DeptId, Salary, ROW_NUMBER() OVER (PARTITION BY DeptId ORDER BY Salary DESC) as rank\n",
        "FROM employees\n",
        "''').show()"
      ],
      "metadata": {
        "colab": {
          "base_uri": "https://localhost:8080/"
        },
        "id": "PRxLMCjaXAgz",
        "outputId": "7522e27b-fcd3-4b26-ce22-68d96bf14a87"
      },
      "execution_count": null,
      "outputs": [
        {
          "output_type": "stream",
          "name": "stdout",
          "text": [
            "+------+------+----+\n",
            "|DeptId|Salary|rank|\n",
            "+------+------+----+\n",
            "|     1|  3000|   1|\n",
            "|     1|  2700|   2|\n",
            "|     2|  4100|   1|\n",
            "+------+------+----+\n",
            "\n"
          ]
        }
      ]
    },
    {
      "cell_type": "markdown",
      "source": [
        "Tugas 3: Terapkan window functions untuk menemukan top 3 karyawan dalam kelompok usia tertentu."
      ],
      "metadata": {
        "id": "uKvYO-P5XMrL"
      }
    },
    {
      "cell_type": "code",
      "source": [
        "spark.sql('''\n",
        "SELECT DeptId, Salary, ROW_NUMBER() OVER (PARTITION BY DeptId ORDER BY Salary DESC) as rank\n",
        "FROM employees\n",
        "''').show()\n"
      ],
      "metadata": {
        "colab": {
          "base_uri": "https://localhost:8080/"
        },
        "id": "xRWTr0uaXOnb",
        "outputId": "7dea8d0d-d1f3-4ace-d551-3ae34f06e56b"
      },
      "execution_count": null,
      "outputs": [
        {
          "output_type": "stream",
          "name": "stdout",
          "text": [
            "+-----+---+------+----+\n",
            "| Name|Age|Salary|rank|\n",
            "+-----+---+------+----+\n",
            "|  Lee| 23|  2700|   1|\n",
            "| Anna| 28|  4100|   1|\n",
            "|James| 34|  3000|   1|\n",
            "+-----+---+------+----+\n",
            "\n"
          ]
        }
      ]
    },
    {
      "cell_type": "markdown",
      "source": [
        "Tugas 4: Demonstrasi penggunaan multi-level joins dan subqueries untuk analisis data yang mendalam.\n"
      ],
      "metadata": {
        "id": "i92QNhF7XWXU"
      }
    },
    {
      "cell_type": "code",
      "source": [
        "from pyspark.sql import SparkSession\n",
        "spark = SparkSession.builder.appName('Pertemuan9').getOrCreate()\n",
        "\n",
        "# Data setup for complex SQL queries\n",
        "employees = spark.createDataFrame([\n",
        "    ('James', 34, 'M', 3000, 1),\n",
        "    ('Anna', 28, 'F', 4100, 2),\n",
        "    ('Lee', 23, 'M', 2700, 1)\n",
        "], ['Name', 'Age', 'Gender', 'Salary', 'DeptId'])\n",
        "departments = spark.createDataFrame([\n",
        "    (1, 'HR'),\n",
        "    (2, 'Marketing')\n",
        "], ['DeptId', 'DeptName'])\n",
        "projects = spark.createDataFrame([\n",
        "    (1, 'Project A'),\n",
        "    (2, 'Project B')\n",
        "], ['DeptId', 'ProjectName'])\n",
        "employees.createOrReplaceTempView('employees')\n",
        "departments.createOrReplaceTempView('departments')\n",
        "projects.createOrReplaceTempView('projects')\n",
        "\n",
        "# Complex SQL query involving multiple joins and subqueries\n",
        "spark.sql('''\n",
        "SELECT e.Name, e.Age, d.DeptName, p.ProjectName\n",
        "FROM employees e\n",
        "JOIN departments d ON e.DeptId = d.DeptId\n",
        "JOIN projects p ON e.DeptId = p.DeptId\n",
        "''').show()\n"
      ],
      "metadata": {
        "colab": {
          "base_uri": "https://localhost:8080/"
        },
        "id": "6RcBqeA2XUUU",
        "outputId": "ae4e25d2-30cb-42d3-b4e9-230c71bf65be"
      },
      "execution_count": null,
      "outputs": [
        {
          "output_type": "stream",
          "name": "stdout",
          "text": [
            "+-----+---+---------+-----------+\n",
            "| Name|Age| DeptName|ProjectName|\n",
            "+-----+---+---------+-----------+\n",
            "|  Lee| 23|       HR|  Project A|\n",
            "|James| 34|       HR|  Project A|\n",
            "| Anna| 28|Marketing|  Project B|\n",
            "+-----+---+---------+-----------+\n",
            "\n"
          ]
        }
      ]
    },
    {
      "cell_type": "markdown",
      "source": [
        "Tugas 5: Tuliskan query SQL untuk menemukan rata-rata gaji per departemen dan rangking setiap karyawan dalam departemen berdasarkan gaji."
      ],
      "metadata": {
        "id": "Aw5KqbwXXbwr"
      }
    },
    {
      "cell_type": "code",
      "source": [
        "avg_salary_per_dept = spark.sql('''\n",
        "SELECT DeptId, AVG(Salary) as AvgSalary\n",
        "FROM employees\n",
        "GROUP BY DeptId\n",
        "''')\n",
        "\n",
        "from pyspark.sql.window import Window\n",
        "from pyspark.sql import functions as F\n",
        "\n",
        "rank_window = Window.partitionBy(\"DeptId\").orderBy(F.desc(\"Salary\"))\n",
        "ranked_employees = employees.withColumn(\"Rank\", F.rank().over(rank_window))\n",
        "\n",
        "avg_salary_per_dept.show()\n",
        "ranked_employees.show()"
      ],
      "metadata": {
        "colab": {
          "base_uri": "https://localhost:8080/"
        },
        "id": "BT6Uu9ABXcYz",
        "outputId": "be11735e-c54f-47b2-febb-9fc8cc743bc1"
      },
      "execution_count": null,
      "outputs": [
        {
          "output_type": "stream",
          "name": "stdout",
          "text": [
            "+------+---------+\n",
            "|DeptId|AvgSalary|\n",
            "+------+---------+\n",
            "|     1|   2850.0|\n",
            "|     2|   4100.0|\n",
            "+------+---------+\n",
            "\n",
            "+-----+---+------+------+------+----+\n",
            "| Name|Age|Gender|Salary|DeptId|Rank|\n",
            "+-----+---+------+------+------+----+\n",
            "|James| 34|     M|  3000|     1|   1|\n",
            "|  Lee| 23|     M|  2700|     1|   2|\n",
            "| Anna| 28|     F|  4100|     2|   1|\n",
            "+-----+---+------+------+------+----+\n",
            "\n"
          ]
        }
      ]
    },
    {
      "cell_type": "markdown",
      "source": [
        "Tugas 6: Gunakan window functions untuk menentukan tren gaji berdasarkan usia di setiap departemen."
      ],
      "metadata": {
        "id": "5iKI_v8zX6XL"
      }
    },
    {
      "cell_type": "code",
      "source": [
        "salary_trends_window = Window.partitionBy(\"DeptId\").orderBy(\"Age\")\n",
        "salary_trends_by_age = employees.withColumn(\"SalaryTrend\", F.avg(\"Salary\").over(salary_trends_window))\n",
        "\n",
        "salary_trends_by_age.show()"
      ],
      "metadata": {
        "colab": {
          "base_uri": "https://localhost:8080/"
        },
        "id": "t4tniECSX8Da",
        "outputId": "0d5aec20-4632-4e32-869f-3fea26fb7aad"
      },
      "execution_count": null,
      "outputs": [
        {
          "output_type": "stream",
          "name": "stdout",
          "text": [
            "+-----+---+------+------+------+-----------+\n",
            "| Name|Age|Gender|Salary|DeptId|SalaryTrend|\n",
            "+-----+---+------+------+------+-----------+\n",
            "|  Lee| 23|     M|  2700|     1|     2700.0|\n",
            "|James| 34|     M|  3000|     1|     2850.0|\n",
            "| Anna| 28|     F|  4100|     2|     4100.0|\n",
            "+-----+---+------+------+------+-----------+\n",
            "\n"
          ]
        }
      ]
    },
    {
      "cell_type": "markdown",
      "source": [
        "Tugas 7: Lakukan analisis tren gaji menggunakan Spark SQL dan visualisasikan hasilnya."
      ],
      "metadata": {
        "id": "njOTWft1X06T"
      }
    },
    {
      "cell_type": "code",
      "source": [
        "import matplotlib.pyplot as plt\n",
        "import pandas as pd\n",
        "\n",
        "# Advanced data analysis with visualization\n",
        "salary_trends = spark.sql('''\n",
        "SELECT Age, AVG(Salary) AS AverageSalary\n",
        "FROM employees\n",
        "GROUP BY Age\n",
        "ORDER BY Age\n",
        "''').toPandas()\n",
        "\n",
        "# Visualization of salary trends\n",
        "plt.figure(figsize=(10, 5))\n",
        "plt.plot(salary_trends['Age'], salary_trends['AverageSalary'], marker='o')\n",
        "plt.xlabel('Age')\n",
        "plt.ylabel('Average Salary')\n",
        "plt.title('Salary Trends by Age')\n",
        "plt.grid(True)\n",
        "plt.show()"
      ],
      "metadata": {
        "colab": {
          "base_uri": "https://localhost:8080/",
          "height": 425
        },
        "id": "_1CcoeCiX24r",
        "outputId": "de1a4ad1-ef60-4fbc-9f31-ec7a7f437e36"
      },
      "execution_count": null,
      "outputs": [
        {
          "output_type": "display_data",
          "data": {
            "text/plain": [
              "<Figure size 1000x500 with 1 Axes>"
            ],
            "image/png": "[encoded data removed]"
          },
          "metadata": {}
        }
      ]
    },
    {
      "cell_type": "markdown",
      "source": [
        "**Homework**"
      ],
      "metadata": {
        "id": "B6JlgR6wYDFb"
      }
    },
    {
      "cell_type": "markdown",
      "source": [
        "Tugas 1: Gunakan Spark SQL untuk mencari total gaji dan jumlah karyawan per departemen. Buat visualisasi perbandingan antar departemen."
      ],
      "metadata": {
        "id": "R5rz4VW2YFfT"
      }
    },
    {
      "cell_type": "code",
      "source": [
        "from pyspark.sql import SparkSession\n",
        "spark = SparkSession.builder.appName(\"MySparkApp\").getOrCreate()\n",
        "\n",
        "data = [\n",
        "    ('James', 34, 'M', 3000, 1),\n",
        "    ('Anna', 28, 'F', 4100, 2),\n",
        "    ('Lee', 23, 'M', 2700, 1),\n",
        "    ('Robert', 34, 'M', 6000, 1),\n",
        "    ('Maria', 28, 'F', 3500, 2)\n",
        "]\n",
        "columns = ['Name', 'Age', 'Gender', 'Salary', 'DeptId']\n",
        "df = spark.createDataFrame(data, schema=columns)\n",
        "df.createOrReplaceTempView('perusahaan')\n",
        "\n",
        "tugas_1 = spark.sql('''\n",
        "    SELECT DeptId, SUM(Salary) AS TotalSalary, COUNT(Name) AS EmployeeCount\n",
        "    FROM perusahaan\n",
        "    GROUP BY DeptId\n",
        "''')\n",
        "tugas_1.show()\n",
        "\n",
        "import matplotlib.pyplot as plt\n",
        "tugas_1_pd = tugas_1.toPandas()\n",
        "\n",
        "plt.figure(figsize=(8, 6))\n",
        "plt.bar(tugas_1_pd['DeptId'], tugas_1_pd['TotalSalary'], color='pink', label='Total Salary')\n",
        "plt.xticks(tugas_1_pd['DeptId'])\n",
        "plt.xlabel('Department ID')\n",
        "plt.ylabel('Total Salary')\n",
        "plt.title('Total Salary per Department')\n",
        "plt.legend()\n",
        "plt.show()"
      ],
      "metadata": {
        "colab": {
          "base_uri": "https://localhost:8080/",
          "height": 686
        },
        "id": "3Eppxw1dU0xT",
        "outputId": "9483f6e0-8b8a-431c-ff0a-c41d45fb747e"
      },
      "execution_count": null,
      "outputs": [
        {
          "output_type": "stream",
          "name": "stdout",
          "text": [
            "+------+-----------+-------------+\n",
            "|DeptId|TotalSalary|EmployeeCount|\n",
            "+------+-----------+-------------+\n",
            "|     1|      11700|            3|\n",
            "|     2|       7600|            2|\n",
            "+------+-----------+-------------+\n",
            "\n"
          ]
        },
        {
          "output_type": "display_data",
          "data": {
            "text/plain": [
              "<Figure size 800x600 with 1 Axes>"
            ],
            "image/png": "[encoded data removed]"
          },
          "metadata": {}
        }
      ]
    },
    {
      "cell_type": "markdown",
      "source": [
        "Tugas 2: Temukan karyawan dengan gaji di atas rata-rata dalam setiap kelompok usia dan visualisasikan data ini dalam bentuk grafik batang atau pie chart."
      ],
      "metadata": {
        "id": "ebQ7icIJYHcC"
      }
    },
    {
      "cell_type": "code",
      "source": [
        "avg_salary_by_age = spark.sql('''\n",
        "    SELECT Age, AVG(Salary) AS AvgSalary\n",
        "    FROM perusahaan\n",
        "    GROUP BY Age\n",
        "''')\n",
        "\n",
        "avg_salary_by_age.createOrReplaceTempView(\"avg_salary_by_age\")\n",
        "above_avg_perusahaan = spark.sql('''\n",
        "    SELECT e.Name, e.Age, e.Salary\n",
        "    FROM perusahaan e\n",
        "    JOIN avg_salary_by_age a ON e.Age = a.Age\n",
        "    WHERE e.Salary > a.AvgSalary\n",
        "''')\n",
        "above_avg_perusahaan.show()\n",
        "\n",
        "import seaborn as sns\n",
        "\n",
        "above_avg_perusahaan_pd = above_avg_perusahaan.toPandas()\n",
        "plt.figure(figsize=(10, 6))\n",
        "sns.barplot(x='Age', y='Salary', hue='Age', data=above_avg_perusahaan_pd, palette='pastel')\n",
        "plt.xlabel('Kelompok Usia')\n",
        "plt.ylabel('Gaji')\n",
        "plt.title('Karyawan dengan Gaji di Atas Rata-rata per Kelompok Usia')\n",
        "plt.xlabel('Kelompok Usia')\n",
        "plt.ylabel('Gaji')\n",
        "plt.show()"
      ],
      "metadata": {
        "colab": {
          "base_uri": "https://localhost:8080/",
          "height": 614
        },
        "id": "NRf5R6YLTSKC",
        "outputId": "aca7638b-dbe6-4146-9817-441be97279fb"
      },
      "execution_count": null,
      "outputs": [
        {
          "output_type": "stream",
          "name": "stdout",
          "text": [
            "+------+---+------+\n",
            "|  Name|Age|Salary|\n",
            "+------+---+------+\n",
            "|  Anna| 28|  4100|\n",
            "|Robert| 34|  6000|\n",
            "+------+---+------+\n",
            "\n"
          ]
        },
        {
          "output_type": "display_data",
          "data": {
            "text/plain": [
              "<Figure size 1000x600 with 1 Axes>"
            ],
            "image/png": "[encoded data removed]"
          },
          "metadata": {}
        }
      ]
    },
    {
      "cell_type": "markdown",
      "source": [
        "Tugas 3: Buat dataset yang lebih besar (misalnya, 100+ baris) dan lakukan analisis mendalam menggunakan SQL functions seperti SUM(), AVG(), COUNT(), serta JOIN antar tabel serta buat visualisasi yang menarik."
      ],
      "metadata": {
        "id": "ePjXU0JEYMHC"
      }
    },
    {
      "cell_type": "code",
      "source": [
        "big_data = [(\"James\", 34, \"M\", 3000, 1), (\"Anna\", 28, \"F\", 4100, 2), (\"Lee\", 23, \"M\", 2700, 1), ('Robert', 34, 'M', 6000, 1), ('Maria', 28, 'F', 3500, 2)] * 50\n",
        "df_big = spark.createDataFrame(big_data, schema=columns)\n",
        "df_big.createOrReplaceTempView('perusahaan_besar')\n",
        "\n",
        "tugas_3 = spark.sql('''\n",
        "    SELECT DeptId, COUNT(Name) AS TotalEmployees, SUM(Salary) AS TotalSalary, AVG(Salary) AS AvgSalary\n",
        "    FROM perusahaan_besar\n",
        "    GROUP BY DeptId\n",
        "''')\n",
        "tugas_3.show()\n",
        "\n",
        "import seaborn as sns\n",
        "tugas_3_pd = tugas_3.toPandas()\n",
        "plt.figure(figsize=(10, 6))\n",
        "sns.barplot(x='DeptId', y='AvgSalary', hue='DeptId', data=tugas_3_pd, palette='PiYG', legend=False)\n",
        "plt.title('Rata-rata Gaji per Departemen')\n",
        "plt.xlabel('Department ID')\n",
        "plt.ylabel('Rata-rata Gaji')\n",
        "plt.show()\n"
      ],
      "metadata": {
        "id": "XZthkqmzYODb",
        "colab": {
          "base_uri": "https://localhost:8080/",
          "height": 614
        },
        "outputId": "80c59040-c375-4b6d-cc92-5e8451fbecc2"
      },
      "execution_count": null,
      "outputs": [
        {
          "output_type": "stream",
          "name": "stdout",
          "text": [
            "+------+--------------+-----------+---------+\n",
            "|DeptId|TotalEmployees|TotalSalary|AvgSalary|\n",
            "+------+--------------+-----------+---------+\n",
            "|     1|           150|     585000|   3900.0|\n",
            "|     2|           100|     380000|   3800.0|\n",
            "+------+--------------+-----------+---------+\n",
            "\n"
          ]
        },
        {
          "output_type": "display_data",
          "data": {
            "text/plain": [
              "<Figure size 1000x600 with 1 Axes>"
            ],
            "image/png": "[encoded data removed]"
          },
          "metadata": {}
        }
      ]
    }
  ]
}